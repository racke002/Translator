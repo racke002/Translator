{
 "cells": [
  {
   "cell_type": "code",
   "execution_count": 1,
   "id": "ba7f7aaf",
   "metadata": {},
   "outputs": [],
   "source": [
    "#Installing necessary packages\n",
    "#!pip install googletrans==3.1.0a0\n",
    "from tkinter import ttk\n",
    "from tkinter import *\n",
    "from googletrans import Translator, LANGUAGES"
   ]
  },
  {
   "cell_type": "code",
   "execution_count": 2,
   "id": "5ed31487",
   "metadata": {},
   "outputs": [],
   "source": [
    "#Creating the display window and environment\n",
    "lang_app = Tk()\n",
    "lang_app.geometry(\"1080x400\")\n",
    "lang_app.resizable(0,0)\n",
    "lang_app.config(bg = 'green')\n",
    "lang_app.title('Language Translator')\n",
    "Label(lang_app, text = \"Language Translator\", font = 'Georgia 24 bold', bg = 'green').pack()"
   ]
  },
  {
   "cell_type": "code",
   "execution_count": 3,
   "id": "0e890cc2",
   "metadata": {},
   "outputs": [],
   "source": [
    "#Here we create the input and output boxes for the text to be translated \n",
    "Label(lang_app, text = \"Input\", font = \"Georgia 15 bold\", bg = \"green\").place(x = 20, y = 60)\n",
    "input = Text(lang_app, font = 'Georgia 12', height = 11, wrap = WORD, padx = 5, pady = 5, width = 60)\n",
    "input.place(x = 30, y = 100)\n",
    "Label(lang_app, text = \"Output\", font = 'Georgia 15 bold', bg = \"green\").place(x = 795, y = 60)\n",
    "output = Text(lang_app, font = \"Georgia 12\", height = 11, wrap = WORD, padx = 5, pady = 5, width = 60)\n",
    "output.place(x = 540, y = 100)\n",
    "\n"
   ]
  },
  {
   "cell_type": "code",
   "execution_count": 4,
   "id": "c39e447b",
   "metadata": {},
   "outputs": [],
   "source": [
    "#Selecting all languages for the drop down\n",
    "languages = list(LANGUAGES.values())\n",
    "input_dropdown = ttk.Combobox(lang_app, values = languages, width = 22)\n",
    "input_dropdown.place(x = 100, y = 65)\n",
    "input_dropdown.set(\"English\")\n",
    "output_dropdown = ttk.Combobox(lang_app, values = languages, width = 22)\n",
    "output_dropdown.place(x = 890, y = 65)\n",
    "output_dropdown.set(\"Spanish\")"
   ]
  },
  {
   "cell_type": "code",
   "execution_count": 5,
   "id": "9e26fbcd",
   "metadata": {},
   "outputs": [],
   "source": [
    "#Here we define the Translate function\n",
    "def Translate():\n",
    "    translator = Translator()\n",
    "    translated=translator.translate(text= input.get(1.0, END) , src = input_dropdown.get(), dest = output_dropdown.get())\n",
    "    output.delete(1.0, END)\n",
    "    output.insert(END, translated.text)\n",
    "\n",
    "#Create the translate button\n",
    "translate_btn = Button(lang_app, text = \"Translate\", font = \"Georgia 12 bold\", pady = 5, command = Translate, bg = \"white\", activebackground = \"white\")\n",
    "translate_btn.place(x = 490, y = 300)\n",
    "\n",
    "#Run main loop\n",
    "lang_app.mainloop()"
   ]
  }
 ],
 "metadata": {
  "kernelspec": {
   "display_name": "Python 3 (ipykernel)",
   "language": "python",
   "name": "python3"
  },
  "language_info": {
   "codemirror_mode": {
    "name": "ipython",
    "version": 3
   },
   "file_extension": ".py",
   "mimetype": "text/x-python",
   "name": "python",
   "nbconvert_exporter": "python",
   "pygments_lexer": "ipython3",
   "version": "3.9.7"
  }
 },
 "nbformat": 4,
 "nbformat_minor": 5
}
